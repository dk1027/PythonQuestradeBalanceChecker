{
 "cells": [
  {
   "cell_type": "markdown",
   "metadata": {},
   "source": [
    "You need to log into your questrade account(s) and generate a refresh token.\n",
    "\n",
    "Once you have done it, paste it below. You only need to do this once because you will receive a new refresh token each time you redeem it for an access token, and this script will automatically save your new tokens for you\n",
    "\n",
    "Make sure you do not accidentally share the token file"
   ]
  },
  {
   "cell_type": "code",
   "execution_count": null,
   "metadata": {},
   "outputs": [],
   "source": [
    "from QuestradeToken import Token\n",
    "Token.Save(['YourRefreshToken1', 'YourRefreshToken2'])"
   ]
  },
  {
   "cell_type": "code",
   "execution_count": null,
   "metadata": {
    "scrolled": true
   },
   "outputs": [],
   "source": [
    "import pandas as pd\n",
    "import numpy as np\n",
    "from QuestradeDatasource import QuestradeDatasource\n",
    "from QuestradeDatasource import QuestradeDatasourceManager\n",
    "import QuestradeConfig as cfg\n",
    "import asyncio\n",
    "import requests\n",
    "import time\n",
    "import datetime\n",
    "from FuncUtils import *\n",
    "from functools import partial\n",
    "\n",
    "class BalanceActor:\n",
    "    def __init__(self):\n",
    "        self._loop = asyncio.get_event_loop()\n",
    "        self._values = []\n",
    "        self.df = pd.DataFrame()\n",
    "\n",
    "    def Start(self):\n",
    "        self._loop.run_until_complete(self._run())\n",
    "    \n",
    "    async def _run(self):\n",
    "        target_allocation = pd.DataFrame(\n",
    "            cfg.target_allocation,\n",
    "            columns=['category','targetAllocation'])\n",
    "\n",
    "        def Handler(x):\n",
    "            self.df = pd.concat([self.df, x])\n",
    "            \n",
    "        target_allocation = pd.DataFrame(\n",
    "            cfg.target_allocation,\n",
    "            columns=['category','targetAllocation'])\n",
    "        \n",
    "        with QuestradeDatasourceManager() as ds:\n",
    "            print(\"Time now: \", datetime.datetime.now())\n",
    "            await AsyncRunAll(self._loop, [MakeFunc(aDs.GetPositions, Handler) for aDs in ds])\n",
    "            print(\"Time now: \", datetime.datetime.now())\n",
    "            df = self.df\n",
    "            t1 = df.groupby(['time','category']).agg({'currentMarketValue' : np.sum}).reset_index()\n",
    "            temp = t1\n",
    "            temp['actual'] = temp['currentMarketValue']\n",
    "            temp_sum = temp['actual'].sum()\n",
    "            temp['actual'] = (temp['actual'] / temp_sum)\n",
    "            temp = pd.merge(target_allocation, temp, on='category')\n",
    "            temp['_diff'] = (temp['targetAllocation'] - temp['actual'])\n",
    "            temp['rebalanceAmount'] = temp['_diff'] * temp_sum\n",
    "            threshold = cfg.threshold\n",
    "            temp.loc[abs(temp._diff) > threshold, 'needRebalance'] = 1\n",
    "            temp.loc[abs(temp._diff) <= threshold, 'needRebalance'] = 0\n",
    "            needRebalance = False\n",
    "            if temp['needRebalance'].sum() > 0:\n",
    "                needRebalance = True\n",
    "                print(\"Need rebalance\")\n",
    "            else:\n",
    "                print(\"Don't need rebalance\")\n",
    "            self.results = temp\n",
    "        \n",
    "a = BalanceActor()\n",
    "a.Start()\n",
    "a.results"
   ]
  },
  {
   "cell_type": "code",
   "execution_count": null,
   "metadata": {
    "collapsed": true
   },
   "outputs": [],
   "source": []
  }
 ],
 "metadata": {
  "kernelspec": {
   "display_name": "Python 3",
   "language": "python",
   "name": "python3"
  },
  "language_info": {
   "codemirror_mode": {
    "name": "ipython",
    "version": 3
   },
   "file_extension": ".py",
   "mimetype": "text/x-python",
   "name": "python",
   "nbconvert_exporter": "python",
   "pygments_lexer": "ipython3",
   "version": "3.6.1"
  }
 },
 "nbformat": 4,
 "nbformat_minor": 2
}
